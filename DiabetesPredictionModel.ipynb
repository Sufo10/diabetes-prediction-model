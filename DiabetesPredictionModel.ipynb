{
 "cells": [
  {
   "cell_type": "markdown",
   "id": "4b8a158c",
   "metadata": {},
   "source": [
    "# A machine learning Model for predicting diabetes based on KNN algorithm"
   ]
  },
  {
   "cell_type": "markdown",
   "id": "ae9c952e",
   "metadata": {},
   "source": [
    "## 1. Importing the libraries"
   ]
  },
  {
   "cell_type": "code",
   "execution_count": 1,
   "id": "6893f7df",
   "metadata": {},
   "outputs": [],
   "source": [
    "import numpy as np\n",
    "import pandas as pd\n",
    "from sklearn.model_selection import train_test_split, GridSearchCV\n",
    "from sklearn.neighbors import KNeighborsClassifier as KNN \n",
    "from sklearn.metrics import accuracy_score, ConfusionMatrixDisplay, classification_report"
   ]
  },
  {
   "cell_type": "markdown",
   "id": "ae6de36c",
   "metadata": {},
   "source": [
    "## 2. Importing the dataset"
   ]
  },
  {
   "cell_type": "code",
   "execution_count": 2,
   "id": "eb639e0e",
   "metadata": {},
   "outputs": [],
   "source": [
    "df = pd.read_csv('diabetes_dataset__2019.csv')"
   ]
  },
  {
   "cell_type": "code",
   "execution_count": 3,
   "id": "b6877175",
   "metadata": {},
   "outputs": [
    {
     "data": {
      "text/html": [
       "<div>\n",
       "<style scoped>\n",
       "    .dataframe tbody tr th:only-of-type {\n",
       "        vertical-align: middle;\n",
       "    }\n",
       "\n",
       "    .dataframe tbody tr th {\n",
       "        vertical-align: top;\n",
       "    }\n",
       "\n",
       "    .dataframe thead th {\n",
       "        text-align: right;\n",
       "    }\n",
       "</style>\n",
       "<table border=\"1\" class=\"dataframe\">\n",
       "  <thead>\n",
       "    <tr style=\"text-align: right;\">\n",
       "      <th></th>\n",
       "      <th>Age</th>\n",
       "      <th>Gender</th>\n",
       "      <th>Family_Diabetes</th>\n",
       "      <th>highBP</th>\n",
       "      <th>PhysicallyActive</th>\n",
       "      <th>BMI</th>\n",
       "      <th>Smoking</th>\n",
       "      <th>Alcohol</th>\n",
       "      <th>Sleep</th>\n",
       "      <th>SoundSleep</th>\n",
       "      <th>RegularMedicine</th>\n",
       "      <th>JunkFood</th>\n",
       "      <th>Stress</th>\n",
       "      <th>BPLevel</th>\n",
       "      <th>Pregancies</th>\n",
       "      <th>Pdiabetes</th>\n",
       "      <th>UriationFreq</th>\n",
       "      <th>Diabetic</th>\n",
       "    </tr>\n",
       "  </thead>\n",
       "  <tbody>\n",
       "    <tr>\n",
       "      <th>0</th>\n",
       "      <td>50-59</td>\n",
       "      <td>Male</td>\n",
       "      <td>no</td>\n",
       "      <td>yes</td>\n",
       "      <td>one hr or more</td>\n",
       "      <td>39.0</td>\n",
       "      <td>no</td>\n",
       "      <td>no</td>\n",
       "      <td>8</td>\n",
       "      <td>6</td>\n",
       "      <td>no</td>\n",
       "      <td>occasionally</td>\n",
       "      <td>sometimes</td>\n",
       "      <td>high</td>\n",
       "      <td>0.0</td>\n",
       "      <td>0</td>\n",
       "      <td>not much</td>\n",
       "      <td>no</td>\n",
       "    </tr>\n",
       "    <tr>\n",
       "      <th>1</th>\n",
       "      <td>50-59</td>\n",
       "      <td>Male</td>\n",
       "      <td>no</td>\n",
       "      <td>yes</td>\n",
       "      <td>less than half an hr</td>\n",
       "      <td>28.0</td>\n",
       "      <td>no</td>\n",
       "      <td>no</td>\n",
       "      <td>8</td>\n",
       "      <td>6</td>\n",
       "      <td>yes</td>\n",
       "      <td>very often</td>\n",
       "      <td>sometimes</td>\n",
       "      <td>normal</td>\n",
       "      <td>0.0</td>\n",
       "      <td>0</td>\n",
       "      <td>not much</td>\n",
       "      <td>no</td>\n",
       "    </tr>\n",
       "    <tr>\n",
       "      <th>2</th>\n",
       "      <td>40-49</td>\n",
       "      <td>Male</td>\n",
       "      <td>no</td>\n",
       "      <td>no</td>\n",
       "      <td>one hr or more</td>\n",
       "      <td>24.0</td>\n",
       "      <td>no</td>\n",
       "      <td>no</td>\n",
       "      <td>6</td>\n",
       "      <td>6</td>\n",
       "      <td>no</td>\n",
       "      <td>occasionally</td>\n",
       "      <td>sometimes</td>\n",
       "      <td>normal</td>\n",
       "      <td>0.0</td>\n",
       "      <td>0</td>\n",
       "      <td>not much</td>\n",
       "      <td>no</td>\n",
       "    </tr>\n",
       "    <tr>\n",
       "      <th>3</th>\n",
       "      <td>50-59</td>\n",
       "      <td>Male</td>\n",
       "      <td>no</td>\n",
       "      <td>no</td>\n",
       "      <td>one hr or more</td>\n",
       "      <td>23.0</td>\n",
       "      <td>no</td>\n",
       "      <td>no</td>\n",
       "      <td>8</td>\n",
       "      <td>6</td>\n",
       "      <td>no</td>\n",
       "      <td>occasionally</td>\n",
       "      <td>sometimes</td>\n",
       "      <td>normal</td>\n",
       "      <td>0.0</td>\n",
       "      <td>0</td>\n",
       "      <td>not much</td>\n",
       "      <td>no</td>\n",
       "    </tr>\n",
       "    <tr>\n",
       "      <th>4</th>\n",
       "      <td>40-49</td>\n",
       "      <td>Male</td>\n",
       "      <td>no</td>\n",
       "      <td>no</td>\n",
       "      <td>less than half an hr</td>\n",
       "      <td>27.0</td>\n",
       "      <td>no</td>\n",
       "      <td>no</td>\n",
       "      <td>8</td>\n",
       "      <td>8</td>\n",
       "      <td>no</td>\n",
       "      <td>occasionally</td>\n",
       "      <td>sometimes</td>\n",
       "      <td>normal</td>\n",
       "      <td>0.0</td>\n",
       "      <td>0</td>\n",
       "      <td>not much</td>\n",
       "      <td>no</td>\n",
       "    </tr>\n",
       "  </tbody>\n",
       "</table>\n",
       "</div>"
      ],
      "text/plain": [
       "     Age Gender Family_Diabetes highBP      PhysicallyActive   BMI Smoking  \\\n",
       "0  50-59   Male              no    yes        one hr or more  39.0      no   \n",
       "1  50-59   Male              no    yes  less than half an hr  28.0      no   \n",
       "2  40-49   Male              no     no        one hr or more  24.0      no   \n",
       "3  50-59   Male              no     no        one hr or more  23.0      no   \n",
       "4  40-49   Male              no     no  less than half an hr  27.0      no   \n",
       "\n",
       "  Alcohol  Sleep  SoundSleep RegularMedicine      JunkFood     Stress BPLevel  \\\n",
       "0      no      8           6              no  occasionally  sometimes    high   \n",
       "1      no      8           6             yes    very often  sometimes  normal   \n",
       "2      no      6           6              no  occasionally  sometimes  normal   \n",
       "3      no      8           6              no  occasionally  sometimes  normal   \n",
       "4      no      8           8              no  occasionally  sometimes  normal   \n",
       "\n",
       "   Pregancies Pdiabetes UriationFreq Diabetic  \n",
       "0         0.0         0     not much       no  \n",
       "1         0.0         0     not much       no  \n",
       "2         0.0         0     not much       no  \n",
       "3         0.0         0     not much       no  \n",
       "4         0.0         0     not much       no  "
      ]
     },
     "execution_count": 3,
     "metadata": {},
     "output_type": "execute_result"
    }
   ],
   "source": [
    "df.head()"
   ]
  },
  {
   "cell_type": "markdown",
   "id": "3255e203",
   "metadata": {},
   "source": [
    "## 3. Data Cleaning and Pre-processing"
   ]
  },
  {
   "cell_type": "markdown",
   "id": "d8350e03",
   "metadata": {},
   "source": [
    "### 3.1. Trimming whitespaces from columns with object datatype"
   ]
  },
  {
   "cell_type": "code",
   "execution_count": 4,
   "id": "0343123e",
   "metadata": {},
   "outputs": [
    {
     "data": {
      "text/html": [
       "<div>\n",
       "<style scoped>\n",
       "    .dataframe tbody tr th:only-of-type {\n",
       "        vertical-align: middle;\n",
       "    }\n",
       "\n",
       "    .dataframe tbody tr th {\n",
       "        vertical-align: top;\n",
       "    }\n",
       "\n",
       "    .dataframe thead th {\n",
       "        text-align: right;\n",
       "    }\n",
       "</style>\n",
       "<table border=\"1\" class=\"dataframe\">\n",
       "  <thead>\n",
       "    <tr style=\"text-align: right;\">\n",
       "      <th></th>\n",
       "      <th>Age</th>\n",
       "      <th>Gender</th>\n",
       "      <th>Family_Diabetes</th>\n",
       "      <th>highBP</th>\n",
       "      <th>PhysicallyActive</th>\n",
       "      <th>Smoking</th>\n",
       "      <th>Alcohol</th>\n",
       "      <th>RegularMedicine</th>\n",
       "      <th>JunkFood</th>\n",
       "      <th>Stress</th>\n",
       "      <th>BPLevel</th>\n",
       "      <th>Pdiabetes</th>\n",
       "      <th>UriationFreq</th>\n",
       "      <th>Diabetic</th>\n",
       "    </tr>\n",
       "  </thead>\n",
       "  <tbody>\n",
       "    <tr>\n",
       "      <th>0</th>\n",
       "      <td>50-59</td>\n",
       "      <td>Male</td>\n",
       "      <td>no</td>\n",
       "      <td>yes</td>\n",
       "      <td>one hr or more</td>\n",
       "      <td>no</td>\n",
       "      <td>no</td>\n",
       "      <td>no</td>\n",
       "      <td>occasionally</td>\n",
       "      <td>sometimes</td>\n",
       "      <td>high</td>\n",
       "      <td>0</td>\n",
       "      <td>not much</td>\n",
       "      <td>no</td>\n",
       "    </tr>\n",
       "    <tr>\n",
       "      <th>1</th>\n",
       "      <td>50-59</td>\n",
       "      <td>Male</td>\n",
       "      <td>no</td>\n",
       "      <td>yes</td>\n",
       "      <td>less than half an hr</td>\n",
       "      <td>no</td>\n",
       "      <td>no</td>\n",
       "      <td>yes</td>\n",
       "      <td>very often</td>\n",
       "      <td>sometimes</td>\n",
       "      <td>normal</td>\n",
       "      <td>0</td>\n",
       "      <td>not much</td>\n",
       "      <td>no</td>\n",
       "    </tr>\n",
       "    <tr>\n",
       "      <th>2</th>\n",
       "      <td>40-49</td>\n",
       "      <td>Male</td>\n",
       "      <td>no</td>\n",
       "      <td>no</td>\n",
       "      <td>one hr or more</td>\n",
       "      <td>no</td>\n",
       "      <td>no</td>\n",
       "      <td>no</td>\n",
       "      <td>occasionally</td>\n",
       "      <td>sometimes</td>\n",
       "      <td>normal</td>\n",
       "      <td>0</td>\n",
       "      <td>not much</td>\n",
       "      <td>no</td>\n",
       "    </tr>\n",
       "    <tr>\n",
       "      <th>3</th>\n",
       "      <td>50-59</td>\n",
       "      <td>Male</td>\n",
       "      <td>no</td>\n",
       "      <td>no</td>\n",
       "      <td>one hr or more</td>\n",
       "      <td>no</td>\n",
       "      <td>no</td>\n",
       "      <td>no</td>\n",
       "      <td>occasionally</td>\n",
       "      <td>sometimes</td>\n",
       "      <td>normal</td>\n",
       "      <td>0</td>\n",
       "      <td>not much</td>\n",
       "      <td>no</td>\n",
       "    </tr>\n",
       "    <tr>\n",
       "      <th>4</th>\n",
       "      <td>40-49</td>\n",
       "      <td>Male</td>\n",
       "      <td>no</td>\n",
       "      <td>no</td>\n",
       "      <td>less than half an hr</td>\n",
       "      <td>no</td>\n",
       "      <td>no</td>\n",
       "      <td>no</td>\n",
       "      <td>occasionally</td>\n",
       "      <td>sometimes</td>\n",
       "      <td>normal</td>\n",
       "      <td>0</td>\n",
       "      <td>not much</td>\n",
       "      <td>no</td>\n",
       "    </tr>\n",
       "  </tbody>\n",
       "</table>\n",
       "</div>"
      ],
      "text/plain": [
       "     Age Gender Family_Diabetes highBP      PhysicallyActive Smoking Alcohol  \\\n",
       "0  50-59   Male              no    yes        one hr or more      no      no   \n",
       "1  50-59   Male              no    yes  less than half an hr      no      no   \n",
       "2  40-49   Male              no     no        one hr or more      no      no   \n",
       "3  50-59   Male              no     no        one hr or more      no      no   \n",
       "4  40-49   Male              no     no  less than half an hr      no      no   \n",
       "\n",
       "  RegularMedicine      JunkFood     Stress BPLevel Pdiabetes UriationFreq  \\\n",
       "0              no  occasionally  sometimes    high         0     not much   \n",
       "1             yes    very often  sometimes  normal         0     not much   \n",
       "2              no  occasionally  sometimes  normal         0     not much   \n",
       "3              no  occasionally  sometimes  normal         0     not much   \n",
       "4              no  occasionally  sometimes  normal         0     not much   \n",
       "\n",
       "  Diabetic  \n",
       "0       no  \n",
       "1       no  \n",
       "2       no  \n",
       "3       no  \n",
       "4       no  "
      ]
     },
     "execution_count": 4,
     "metadata": {},
     "output_type": "execute_result"
    }
   ],
   "source": [
    "df_obj = df.select_dtypes(['object'])\n",
    "df[df_obj.columns] = df_obj.apply(lambda x: x.str.strip())\n",
    "df_obj.head()"
   ]
  },
  {
   "cell_type": "markdown",
   "id": "63bae42f",
   "metadata": {},
   "source": [
    "### 3.2. Listing the different kinds of values present in the columns of dataset"
   ]
  },
  {
   "cell_type": "code",
   "execution_count": 5,
   "id": "ba70b7da",
   "metadata": {},
   "outputs": [
    {
     "name": "stdout",
     "output_type": "stream",
     "text": [
      "Age\n",
      "less than 40    488\n",
      "40-49           164\n",
      "50-59           156\n",
      "60 or older     144\n",
      "Name: Age, dtype: int64\n",
      "=========================\n",
      "Gender\n",
      "Male      580\n",
      "Female    372\n",
      "Name: Gender, dtype: int64\n",
      "=========================\n",
      "Family_Diabetes\n",
      "no     498\n",
      "yes    454\n",
      "Name: Family_Diabetes, dtype: int64\n",
      "=========================\n",
      "highBP\n",
      "no     724\n",
      "yes    228\n",
      "Name: highBP, dtype: int64\n",
      "=========================\n",
      "PhysicallyActive\n",
      "less than half an hr    336\n",
      "more than half an hr    272\n",
      "one hr or more          212\n",
      "none                    132\n",
      "Name: PhysicallyActive, dtype: int64\n",
      "=========================\n",
      "BMI\n",
      "24.0    111\n",
      "21.0     88\n",
      "23.0     76\n",
      "28.0     71\n",
      "26.0     66\n",
      "33.0     64\n",
      "27.0     63\n",
      "22.0     58\n",
      "20.0     48\n",
      "19.0     36\n",
      "25.0     34\n",
      "30.0     33\n",
      "18.0     32\n",
      "29.0     28\n",
      "38.0     28\n",
      "36.0     20\n",
      "17.0     16\n",
      "32.0     16\n",
      "31.0     16\n",
      "34.0     12\n",
      "35.0     12\n",
      "15.0      8\n",
      "39.0      4\n",
      "40.0      4\n",
      "42.0      3\n",
      "45.0      1\n",
      "Name: BMI, dtype: int64\n",
      "=========================\n",
      "Smoking\n",
      "no     844\n",
      "yes    108\n",
      "Name: Smoking, dtype: int64\n",
      "=========================\n",
      "Alcohol\n",
      "no     760\n",
      "yes    192\n",
      "Name: Alcohol, dtype: int64\n",
      "=========================\n",
      "Sleep\n",
      "7     264\n",
      "8     256\n",
      "6     256\n",
      "5      68\n",
      "9      48\n",
      "4      32\n",
      "10     24\n",
      "11      4\n",
      "Name: Sleep, dtype: int64\n",
      "=========================\n",
      "SoundSleep\n",
      "6     228\n",
      "4     188\n",
      "5     156\n",
      "8     120\n",
      "7     104\n",
      "3      68\n",
      "2      44\n",
      "10     16\n",
      "9      16\n",
      "11      4\n",
      "1       4\n",
      "0       4\n",
      "Name: SoundSleep, dtype: int64\n",
      "=========================\n",
      "RegularMedicine\n",
      "no     615\n",
      "yes    336\n",
      "o        1\n",
      "Name: RegularMedicine, dtype: int64\n",
      "=========================\n",
      "JunkFood\n",
      "occasionally    672\n",
      "often           184\n",
      "very often       52\n",
      "always           44\n",
      "Name: JunkFood, dtype: int64\n",
      "=========================\n",
      "Stress\n",
      "sometimes     564\n",
      "very often    164\n",
      "not at all    136\n",
      "always         88\n",
      "Name: Stress, dtype: int64\n",
      "=========================\n",
      "BPLevel\n",
      "normal    708\n",
      "high      211\n",
      "low        25\n",
      "High        5\n",
      "Low         3\n",
      "Name: BPLevel, dtype: int64\n",
      "=========================\n",
      "Pregancies\n",
      "0.0    754\n",
      "2.0     64\n",
      "3.0     60\n",
      "1.0     28\n",
      "4.0      4\n",
      "Name: Pregancies, dtype: int64\n",
      "=========================\n",
      "Pdiabetes\n",
      "0      936\n",
      "yes     14\n",
      "no       1\n",
      "Name: Pdiabetes, dtype: int64\n",
      "=========================\n",
      "UriationFreq\n",
      "not much       664\n",
      "quite often    288\n",
      "Name: UriationFreq, dtype: int64\n",
      "=========================\n",
      "Diabetic\n",
      "no     685\n",
      "yes    266\n",
      "Name: Diabetic, dtype: int64\n",
      "=========================\n"
     ]
    }
   ],
   "source": [
    "for col in df:\n",
    "    print(col)\n",
    "    print(df[col].value_counts())\n",
    "    print(f'='*25)"
   ]
  },
  {
   "cell_type": "markdown",
   "id": "d64b221e",
   "metadata": {},
   "source": [
    "### 3.3. Correcting the typo errors "
   ]
  },
  {
   "cell_type": "code",
   "execution_count": 6,
   "id": "a599e8fe",
   "metadata": {},
   "outputs": [],
   "source": [
    "df['RegularMedicine'].replace('o','no', inplace=True)\n",
    "df['BPLevel'] = df['BPLevel'].str.lower()\n",
    "df['Pdiabetes'].replace('0', 'no', inplace=True)"
   ]
  },
  {
   "cell_type": "markdown",
   "id": "40769cc0",
   "metadata": {},
   "source": [
    "### 3.4. Checking the missing and NaN values"
   ]
  },
  {
   "cell_type": "code",
   "execution_count": 7,
   "id": "da3485af",
   "metadata": {
    "scrolled": true
   },
   "outputs": [
    {
     "data": {
      "text/plain": [
       "16"
      ]
     },
     "execution_count": 7,
     "metadata": {},
     "output_type": "execute_result"
    }
   ],
   "source": [
    "df[df['Gender']=='Male']['Pregancies'].isna().sum()"
   ]
  },
  {
   "cell_type": "markdown",
   "id": "e100e703",
   "metadata": {},
   "source": [
    "### 3.5. Replacing replacable values with 0 and dropping the unreplacable NaN values"
   ]
  },
  {
   "cell_type": "code",
   "execution_count": 8,
   "id": "4b544a12",
   "metadata": {
    "scrolled": true
   },
   "outputs": [
    {
     "name": "stdout",
     "output_type": "stream",
     "text": [
      "<class 'pandas.core.frame.DataFrame'>\n",
      "Int64Index: 947 entries, 0 to 951\n",
      "Data columns (total 18 columns):\n",
      " #   Column            Non-Null Count  Dtype  \n",
      "---  ------            --------------  -----  \n",
      " 0   Age               947 non-null    object \n",
      " 1   Gender            947 non-null    object \n",
      " 2   Family_Diabetes   947 non-null    object \n",
      " 3   highBP            947 non-null    object \n",
      " 4   PhysicallyActive  947 non-null    object \n",
      " 5   BMI               947 non-null    float64\n",
      " 6   Smoking           947 non-null    object \n",
      " 7   Alcohol           947 non-null    object \n",
      " 8   Sleep             947 non-null    int64  \n",
      " 9   SoundSleep        947 non-null    int64  \n",
      " 10  RegularMedicine   947 non-null    object \n",
      " 11  JunkFood          947 non-null    object \n",
      " 12  Stress            947 non-null    object \n",
      " 13  BPLevel           947 non-null    object \n",
      " 14  Pregancies        947 non-null    float64\n",
      " 15  Pdiabetes         947 non-null    object \n",
      " 16  UriationFreq      947 non-null    object \n",
      " 17  Diabetic          947 non-null    object \n",
      "dtypes: float64(2), int64(2), object(14)\n",
      "memory usage: 140.6+ KB\n"
     ]
    }
   ],
   "source": [
    "df['Pregancies'].replace(np.nan, 0, inplace=True)\n",
    "# will drop all NaN's \n",
    "df.dropna(inplace=True)\n",
    "df.info()"
   ]
  },
  {
   "cell_type": "markdown",
   "id": "d174e434",
   "metadata": {},
   "source": [
    "### 3.6. Adding dummy variables for columns with multinary values"
   ]
  },
  {
   "cell_type": "code",
   "execution_count": 9,
   "id": "9ba0b46d",
   "metadata": {},
   "outputs": [],
   "source": [
    "multinary_columns = ['Age', 'BPLevel', 'PhysicallyActive', 'JunkFood', 'Stress']\n",
    "multinary = pd.get_dummies(df[multinary_columns], drop_first=True)\n",
    "pregnancy = pd.get_dummies(df['Pregancies'],prefix='Pregnancies',drop_first= True)"
   ]
  },
  {
   "cell_type": "code",
   "execution_count": 10,
   "id": "670f5fdd",
   "metadata": {},
   "outputs": [],
   "source": [
    "multinary_columns.append('Pregancies')\n",
    "untouched_columns = [col for col in df.columns if col not in multinary_columns]"
   ]
  },
  {
   "cell_type": "markdown",
   "id": "b0870ee8",
   "metadata": {},
   "source": [
    "### 3.7. Concatinating all the columns into one dataframe"
   ]
  },
  {
   "cell_type": "code",
   "execution_count": 11,
   "id": "48f762b3",
   "metadata": {},
   "outputs": [],
   "source": [
    "new_df = pd.concat([multinary, pregnancy, df[untouched_columns]], axis=1)"
   ]
  },
  {
   "cell_type": "code",
   "execution_count": 12,
   "id": "56aa4574",
   "metadata": {},
   "outputs": [
    {
     "name": "stdout",
     "output_type": "stream",
     "text": [
      "<class 'pandas.core.frame.DataFrame'>\n",
      "Int64Index: 947 entries, 0 to 951\n",
      "Data columns (total 30 columns):\n",
      " #   Column                                 Non-Null Count  Dtype  \n",
      "---  ------                                 --------------  -----  \n",
      " 0   Age_50-59                              947 non-null    uint8  \n",
      " 1   Age_60 or older                        947 non-null    uint8  \n",
      " 2   Age_less than 40                       947 non-null    uint8  \n",
      " 3   BPLevel_low                            947 non-null    uint8  \n",
      " 4   BPLevel_normal                         947 non-null    uint8  \n",
      " 5   PhysicallyActive_more than half an hr  947 non-null    uint8  \n",
      " 6   PhysicallyActive_none                  947 non-null    uint8  \n",
      " 7   PhysicallyActive_one hr or more        947 non-null    uint8  \n",
      " 8   JunkFood_occasionally                  947 non-null    uint8  \n",
      " 9   JunkFood_often                         947 non-null    uint8  \n",
      " 10  JunkFood_very often                    947 non-null    uint8  \n",
      " 11  Stress_not at all                      947 non-null    uint8  \n",
      " 12  Stress_sometimes                       947 non-null    uint8  \n",
      " 13  Stress_very often                      947 non-null    uint8  \n",
      " 14  Pregnancies_1.0                        947 non-null    uint8  \n",
      " 15  Pregnancies_2.0                        947 non-null    uint8  \n",
      " 16  Pregnancies_3.0                        947 non-null    uint8  \n",
      " 17  Pregnancies_4.0                        947 non-null    uint8  \n",
      " 18  Gender                                 947 non-null    object \n",
      " 19  Family_Diabetes                        947 non-null    object \n",
      " 20  highBP                                 947 non-null    object \n",
      " 21  BMI                                    947 non-null    float64\n",
      " 22  Smoking                                947 non-null    object \n",
      " 23  Alcohol                                947 non-null    object \n",
      " 24  Sleep                                  947 non-null    int64  \n",
      " 25  SoundSleep                             947 non-null    int64  \n",
      " 26  RegularMedicine                        947 non-null    object \n",
      " 27  Pdiabetes                              947 non-null    object \n",
      " 28  UriationFreq                           947 non-null    object \n",
      " 29  Diabetic                               947 non-null    object \n",
      "dtypes: float64(1), int64(2), object(9), uint8(18)\n",
      "memory usage: 112.8+ KB\n"
     ]
    }
   ],
   "source": [
    "new_df.info()"
   ]
  },
  {
   "cell_type": "markdown",
   "id": "f5278e33",
   "metadata": {},
   "source": [
    "### 3.8. Converting columns with binary values to numbers"
   ]
  },
  {
   "cell_type": "code",
   "execution_count": 13,
   "id": "c12957c0",
   "metadata": {},
   "outputs": [],
   "source": [
    "binary_columns = ['Diabetic', 'Pdiabetes', 'RegularMedicine', 'Alcohol', 'Smoking', 'highBP', 'Family_Diabetes']\n",
    "two_values_cols = ['UriationFreq', 'Gender']\n",
    "for col in binary_columns:\n",
    "    new_df[col] = new_df[col].apply(lambda x: 0 if x=='no' else 1)\n",
    "    \n",
    "new_df['UriationFreq'] = new_df['UriationFreq'].apply(lambda x: 0 if x=='not much' else 1)\n",
    "new_df['Gender'] = new_df['Gender'].apply(lambda x: 0 if x=='Female' else 1)"
   ]
  },
  {
   "cell_type": "code",
   "execution_count": 14,
   "id": "b21f81e9",
   "metadata": {},
   "outputs": [
    {
     "data": {
      "text/html": [
       "<div>\n",
       "<style scoped>\n",
       "    .dataframe tbody tr th:only-of-type {\n",
       "        vertical-align: middle;\n",
       "    }\n",
       "\n",
       "    .dataframe tbody tr th {\n",
       "        vertical-align: top;\n",
       "    }\n",
       "\n",
       "    .dataframe thead th {\n",
       "        text-align: right;\n",
       "    }\n",
       "</style>\n",
       "<table border=\"1\" class=\"dataframe\">\n",
       "  <thead>\n",
       "    <tr style=\"text-align: right;\">\n",
       "      <th></th>\n",
       "      <th>Age_50-59</th>\n",
       "      <th>Age_60 or older</th>\n",
       "      <th>Age_less than 40</th>\n",
       "      <th>BPLevel_low</th>\n",
       "      <th>BPLevel_normal</th>\n",
       "      <th>PhysicallyActive_more than half an hr</th>\n",
       "      <th>PhysicallyActive_none</th>\n",
       "      <th>PhysicallyActive_one hr or more</th>\n",
       "      <th>JunkFood_occasionally</th>\n",
       "      <th>JunkFood_often</th>\n",
       "      <th>...</th>\n",
       "      <th>highBP</th>\n",
       "      <th>BMI</th>\n",
       "      <th>Smoking</th>\n",
       "      <th>Alcohol</th>\n",
       "      <th>Sleep</th>\n",
       "      <th>SoundSleep</th>\n",
       "      <th>RegularMedicine</th>\n",
       "      <th>Pdiabetes</th>\n",
       "      <th>UriationFreq</th>\n",
       "      <th>Diabetic</th>\n",
       "    </tr>\n",
       "  </thead>\n",
       "  <tbody>\n",
       "    <tr>\n",
       "      <th>0</th>\n",
       "      <td>1</td>\n",
       "      <td>0</td>\n",
       "      <td>0</td>\n",
       "      <td>0</td>\n",
       "      <td>0</td>\n",
       "      <td>0</td>\n",
       "      <td>0</td>\n",
       "      <td>1</td>\n",
       "      <td>1</td>\n",
       "      <td>0</td>\n",
       "      <td>...</td>\n",
       "      <td>1</td>\n",
       "      <td>39.0</td>\n",
       "      <td>0</td>\n",
       "      <td>0</td>\n",
       "      <td>8</td>\n",
       "      <td>6</td>\n",
       "      <td>0</td>\n",
       "      <td>0</td>\n",
       "      <td>0</td>\n",
       "      <td>0</td>\n",
       "    </tr>\n",
       "    <tr>\n",
       "      <th>1</th>\n",
       "      <td>1</td>\n",
       "      <td>0</td>\n",
       "      <td>0</td>\n",
       "      <td>0</td>\n",
       "      <td>1</td>\n",
       "      <td>0</td>\n",
       "      <td>0</td>\n",
       "      <td>0</td>\n",
       "      <td>0</td>\n",
       "      <td>0</td>\n",
       "      <td>...</td>\n",
       "      <td>1</td>\n",
       "      <td>28.0</td>\n",
       "      <td>0</td>\n",
       "      <td>0</td>\n",
       "      <td>8</td>\n",
       "      <td>6</td>\n",
       "      <td>1</td>\n",
       "      <td>0</td>\n",
       "      <td>0</td>\n",
       "      <td>0</td>\n",
       "    </tr>\n",
       "    <tr>\n",
       "      <th>2</th>\n",
       "      <td>0</td>\n",
       "      <td>0</td>\n",
       "      <td>0</td>\n",
       "      <td>0</td>\n",
       "      <td>1</td>\n",
       "      <td>0</td>\n",
       "      <td>0</td>\n",
       "      <td>1</td>\n",
       "      <td>1</td>\n",
       "      <td>0</td>\n",
       "      <td>...</td>\n",
       "      <td>0</td>\n",
       "      <td>24.0</td>\n",
       "      <td>0</td>\n",
       "      <td>0</td>\n",
       "      <td>6</td>\n",
       "      <td>6</td>\n",
       "      <td>0</td>\n",
       "      <td>0</td>\n",
       "      <td>0</td>\n",
       "      <td>0</td>\n",
       "    </tr>\n",
       "    <tr>\n",
       "      <th>3</th>\n",
       "      <td>1</td>\n",
       "      <td>0</td>\n",
       "      <td>0</td>\n",
       "      <td>0</td>\n",
       "      <td>1</td>\n",
       "      <td>0</td>\n",
       "      <td>0</td>\n",
       "      <td>1</td>\n",
       "      <td>1</td>\n",
       "      <td>0</td>\n",
       "      <td>...</td>\n",
       "      <td>0</td>\n",
       "      <td>23.0</td>\n",
       "      <td>0</td>\n",
       "      <td>0</td>\n",
       "      <td>8</td>\n",
       "      <td>6</td>\n",
       "      <td>0</td>\n",
       "      <td>0</td>\n",
       "      <td>0</td>\n",
       "      <td>0</td>\n",
       "    </tr>\n",
       "    <tr>\n",
       "      <th>4</th>\n",
       "      <td>0</td>\n",
       "      <td>0</td>\n",
       "      <td>0</td>\n",
       "      <td>0</td>\n",
       "      <td>1</td>\n",
       "      <td>0</td>\n",
       "      <td>0</td>\n",
       "      <td>0</td>\n",
       "      <td>1</td>\n",
       "      <td>0</td>\n",
       "      <td>...</td>\n",
       "      <td>0</td>\n",
       "      <td>27.0</td>\n",
       "      <td>0</td>\n",
       "      <td>0</td>\n",
       "      <td>8</td>\n",
       "      <td>8</td>\n",
       "      <td>0</td>\n",
       "      <td>0</td>\n",
       "      <td>0</td>\n",
       "      <td>0</td>\n",
       "    </tr>\n",
       "  </tbody>\n",
       "</table>\n",
       "<p>5 rows × 30 columns</p>\n",
       "</div>"
      ],
      "text/plain": [
       "   Age_50-59  Age_60 or older  Age_less than 40  BPLevel_low  BPLevel_normal  \\\n",
       "0          1                0                 0            0               0   \n",
       "1          1                0                 0            0               1   \n",
       "2          0                0                 0            0               1   \n",
       "3          1                0                 0            0               1   \n",
       "4          0                0                 0            0               1   \n",
       "\n",
       "   PhysicallyActive_more than half an hr  PhysicallyActive_none  \\\n",
       "0                                      0                      0   \n",
       "1                                      0                      0   \n",
       "2                                      0                      0   \n",
       "3                                      0                      0   \n",
       "4                                      0                      0   \n",
       "\n",
       "   PhysicallyActive_one hr or more  JunkFood_occasionally  JunkFood_often  \\\n",
       "0                                1                      1               0   \n",
       "1                                0                      0               0   \n",
       "2                                1                      1               0   \n",
       "3                                1                      1               0   \n",
       "4                                0                      1               0   \n",
       "\n",
       "   ...  highBP   BMI  Smoking  Alcohol  Sleep  SoundSleep  RegularMedicine  \\\n",
       "0  ...       1  39.0        0        0      8           6                0   \n",
       "1  ...       1  28.0        0        0      8           6                1   \n",
       "2  ...       0  24.0        0        0      6           6                0   \n",
       "3  ...       0  23.0        0        0      8           6                0   \n",
       "4  ...       0  27.0        0        0      8           8                0   \n",
       "\n",
       "   Pdiabetes  UriationFreq  Diabetic  \n",
       "0          0             0         0  \n",
       "1          0             0         0  \n",
       "2          0             0         0  \n",
       "3          0             0         0  \n",
       "4          0             0         0  \n",
       "\n",
       "[5 rows x 30 columns]"
      ]
     },
     "execution_count": 14,
     "metadata": {},
     "output_type": "execute_result"
    }
   ],
   "source": [
    "new_df.head()"
   ]
  },
  {
   "cell_type": "markdown",
   "id": "5f681221",
   "metadata": {},
   "source": [
    "### 3.9. Displaying the number of diabetic and non-diabetic\n",
    "#### `Diabetic = 1, Non-Diabetic = 0`"
   ]
  },
  {
   "cell_type": "code",
   "execution_count": 15,
   "id": "4b9794ac",
   "metadata": {},
   "outputs": [
    {
     "data": {
      "text/plain": [
       "0    682\n",
       "1    265\n",
       "Name: Diabetic, dtype: int64"
      ]
     },
     "execution_count": 15,
     "metadata": {},
     "output_type": "execute_result"
    }
   ],
   "source": [
    "new_df['Diabetic'].value_counts()"
   ]
  },
  {
   "cell_type": "markdown",
   "id": "6f82624a",
   "metadata": {},
   "source": [
    "## 4. Splitting the dataset into training and testing set\n",
    "#### `Training data = 80%, Testing data = 20%`"
   ]
  },
  {
   "cell_type": "code",
   "execution_count": 16,
   "id": "c8587228",
   "metadata": {},
   "outputs": [],
   "source": [
    "X = new_df.drop('Diabetic', axis=1)\n",
    "y = new_df['Diabetic']\n",
    "X_train, X_test, y_train, y_test = train_test_split(X, y, test_size=0.2, random_state=123, stratify=y)"
   ]
  },
  {
   "cell_type": "code",
   "execution_count": 17,
   "id": "cd89cf5c",
   "metadata": {},
   "outputs": [
    {
     "name": "stdout",
     "output_type": "stream",
     "text": [
      "757 190\n"
     ]
    }
   ],
   "source": [
    "# number of examples in the train and test set\n",
    "print(len(X_train), len(X_test)) "
   ]
  },
  {
   "cell_type": "markdown",
   "id": "6643f46b",
   "metadata": {},
   "source": [
    "## 5. Calculating the best nearest neighbor value using GridSearchCV"
   ]
  },
  {
   "cell_type": "code",
   "execution_count": 18,
   "id": "34f32c35",
   "metadata": {},
   "outputs": [
    {
     "name": "stdout",
     "output_type": "stream",
     "text": [
      "Fitting 10 folds for each of 28 candidates, totalling 280 fits\n"
     ]
    }
   ],
   "source": [
    "# initializing the model\n",
    "model = KNN() \n",
    "\n",
    "#declaring range of K values\n",
    "k_range = list(range(3, 31))\n",
    "\n",
    "param_grid = dict(n_neighbors=k_range)\n",
    "\n",
    "# instantiate the grid\n",
    "grid = GridSearchCV(model, param_grid, cv=10, scoring='accuracy', return_train_score=False,verbose=1)\n",
    "\n",
    "# fit the model for grid search\n",
    "grid_search = grid.fit(X_train, y_train)"
   ]
  },
  {
   "cell_type": "markdown",
   "id": "2ef91017",
   "metadata": {},
   "source": [
    "### 5.1. Printing the best outputs"
   ]
  },
  {
   "cell_type": "code",
   "execution_count": 19,
   "id": "9b99deed",
   "metadata": {},
   "outputs": [
    {
     "name": "stdout",
     "output_type": "stream",
     "text": [
      "KNeighborsClassifier(n_neighbors=3)\n",
      "{'n_neighbors': 3}\n"
     ]
    }
   ],
   "source": [
    "print(grid_search.best_estimator_)\n",
    "print(grid_search.best_params_)"
   ]
  },
  {
   "cell_type": "markdown",
   "id": "491c9e41",
   "metadata": {},
   "source": [
    "## 6. Training the KNN model ( `taking K = 3 from grid search` )"
   ]
  },
  {
   "cell_type": "code",
   "execution_count": 20,
   "id": "d6671ad8",
   "metadata": {},
   "outputs": [
    {
     "data": {
      "text/plain": [
       "KNeighborsClassifier(n_neighbors=3)"
      ]
     },
     "execution_count": 20,
     "metadata": {},
     "output_type": "execute_result"
    }
   ],
   "source": [
    "# initialize KNN model with K=1\n",
    "knn_model = KNN(n_neighbors=3)\n",
    "\n",
    "# fit the model/train the model\n",
    "knn_model.fit(X_train, y_train)"
   ]
  },
  {
   "cell_type": "code",
   "execution_count": 21,
   "id": "0c765e38",
   "metadata": {},
   "outputs": [
    {
     "data": {
      "text/plain": [
       "0.9709379128137384"
      ]
     },
     "execution_count": 21,
     "metadata": {},
     "output_type": "execute_result"
    }
   ],
   "source": [
    "predictions = knn_model.predict(X_train)\n",
    "accuracy = accuracy_score(predictions, y_train)\n",
    "accuracy"
   ]
  },
  {
   "cell_type": "markdown",
   "id": "602ca31a",
   "metadata": {},
   "source": [
    "## 7. Predictions and accuracy score calculation"
   ]
  },
  {
   "cell_type": "markdown",
   "id": "92fc851b",
   "metadata": {},
   "source": [
    "### 7.1. `Predictions` for the test data"
   ]
  },
  {
   "cell_type": "code",
   "execution_count": 22,
   "id": "7080122c",
   "metadata": {},
   "outputs": [],
   "source": [
    "prediction = knn_model.predict(X_test)"
   ]
  },
  {
   "cell_type": "markdown",
   "id": "36306203",
   "metadata": {},
   "source": [
    "### Calculating the `accuracy score` on the test data"
   ]
  },
  {
   "cell_type": "code",
   "execution_count": 23,
   "id": "7ca2b53c",
   "metadata": {},
   "outputs": [
    {
     "name": "stdout",
     "output_type": "stream",
     "text": [
      "The accuracy score on the test data is 93.16 %\n"
     ]
    }
   ],
   "source": [
    "accuracy = accuracy_score(prediction, y_test)\n",
    "accuracy\n",
    "print(f\"The accuracy score on the test data is {round(accuracy*100, 2)} %\")"
   ]
  },
  {
   "cell_type": "markdown",
   "id": "de9f56cc",
   "metadata": {},
   "source": [
    "## 8. Displaying the classification report"
   ]
  },
  {
   "cell_type": "code",
   "execution_count": 24,
   "id": "960a1c23",
   "metadata": {},
   "outputs": [
    {
     "name": "stdout",
     "output_type": "stream",
     "text": [
      "Classification Report:\n",
      "\n",
      "              precision    recall  f1-score   support\n",
      "\n",
      "Non-Diabetic       0.92      0.99      0.95       137\n",
      "    Diabetic       0.98      0.77      0.86        53\n",
      "\n",
      "    accuracy                           0.93       190\n",
      "   macro avg       0.95      0.88      0.91       190\n",
      "weighted avg       0.93      0.93      0.93       190\n",
      "\n"
     ]
    }
   ],
   "source": [
    "label_names = ['Non-Diabetic', 'Diabetic']\n",
    "print('Classification Report:\\n')\n",
    "print(classification_report(y_test, prediction, target_names = label_names))"
   ]
  },
  {
   "cell_type": "markdown",
   "id": "c197a712",
   "metadata": {},
   "source": [
    "##  9. Plotting the confusion matrix"
   ]
  },
  {
   "cell_type": "code",
   "execution_count": 25,
   "id": "6545c06f",
   "metadata": {},
   "outputs": [
    {
     "data": {
      "text/plain": [
       "<sklearn.metrics._plot.confusion_matrix.ConfusionMatrixDisplay at 0x271ccdaac70>"
      ]
     },
     "execution_count": 25,
     "metadata": {},
     "output_type": "execute_result"
    },
    {
     "data": {
      "image/png": "[encoded data removed]",
      "text/plain": [
       "<Figure size 640x480 with 2 Axes>"
      ]
     },
     "metadata": {},
     "output_type": "display_data"
    }
   ],
   "source": [
    "ConfusionMatrixDisplay.from_predictions(y_test, prediction, display_labels=label_names)"
   ]
  },
  {
   "cell_type": "markdown",
   "id": "c8edcef6",
   "metadata": {},
   "source": [
    "## 10. Prediction on Diabetic or Non-Diabetic data"
   ]
  },
  {
   "cell_type": "markdown",
   "id": "66fe22c7",
   "metadata": {},
   "source": [
    "### 10.1. Predicting `Diabetic data`"
   ]
  },
  {
   "cell_type": "code",
   "execution_count": 26,
   "id": "84e3f0c1",
   "metadata": {},
   "outputs": [
    {
     "name": "stdout",
     "output_type": "stream",
     "text": [
      "The person is Diabetic.\n"
     ]
    }
   ],
   "source": [
    "diabetic_data = new_df.loc[new_df['Diabetic'] == 1][0:1].drop('Diabetic', axis=1)\n",
    "\n",
    "diabetic_prediction = knn_model.predict(diabetic_data)\n",
    "\n",
    "if(diabetic_prediction[0] == 1):\n",
    "    print(\"The person is Diabetic.\")\n",
    "else:\n",
    "    print(\"The person is Non Diabetic.\")"
   ]
  },
  {
   "cell_type": "markdown",
   "id": "43c13157",
   "metadata": {},
   "source": [
    "### 10.2. Predicting `Non-Diabetic data`"
   ]
  },
  {
   "cell_type": "code",
   "execution_count": 27,
   "id": "be223bf6",
   "metadata": {},
   "outputs": [
    {
     "name": "stdout",
     "output_type": "stream",
     "text": [
      "The person is Non Diabetic.\n"
     ]
    }
   ],
   "source": [
    "non_diabetic_data = new_df.loc[new_df['Diabetic'] == 0][0:1].drop('Diabetic', axis=1)\n",
    "non_diabetic_prediction = knn_model.predict(non_diabetic_data)\n",
    "\n",
    "if(non_diabetic_prediction[0] == 1):\n",
    "    print(\"The person is Diabetic.\")\n",
    "else:\n",
    "    print(\"The person is Non Diabetic.\")"
   ]
  }
 ],
 "metadata": {
  "kernelspec": {
   "display_name": "Python 3 (ipykernel)",
   "language": "python",
   "name": "python3"
  },
  "language_info": {
   "codemirror_mode": {
    "name": "ipython",
    "version": 3
   },
   "file_extension": ".py",
   "mimetype": "text/x-python",
   "name": "python",
   "nbconvert_exporter": "python",
   "pygments_lexer": "ipython3",
   "version": "3.9.13"
  }
 },
 "nbformat": 4,
 "nbformat_minor": 5
}
